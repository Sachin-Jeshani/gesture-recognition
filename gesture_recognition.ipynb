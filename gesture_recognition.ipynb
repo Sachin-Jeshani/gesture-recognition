{
 "cells": [
  {
   "cell_type": "markdown",
   "metadata": {
    "id": "YcX2B3FXcclk"
   },
   "source": [
    "# Gesture recognition\n",
    "\n",
    "> Objective of this project is to develop a cool feature in the smart-TV that can recognise five different gestures performed by the user which will help users control the TV without using a remote.\n",
    "\n",
    "> The training data consists of a few hundred videos categorised into one of the five classes. Each video (typically 2-3 seconds long) is divided into a sequence of 30 frames(images). These videos have been recorded by various people performing one of the five gestures in front of a webcam - similar to what the smart TV will use.\n",
    "\n",
    "> Each gesture corresponds to a specific command:\n",
    "\n",
    "        - Thumbs up:  Increase the volume\n",
    "        - Thumbs down: Decrease the volume\n",
    "        - Left swipe: 'Jump' backwards 10 seconds\n",
    "        - Right swipe: 'Jump' forward 10 seconds  \n",
    "        - Stop: Pause the movie\n",
    "\n",
    "> Our task is to train a model on the 'train' folder which performs well on the 'val' folder as well."
   ]
  },
  {
   "cell_type": "code",
   "execution_count": 47,
   "metadata": {
    "id": "djUZAUyjepOz"
   },
   "outputs": [],
   "source": [
    "# Importing the useful libraries\n",
    "\n",
    "import numpy as np\n",
    "import os\n",
    "import datetime\n",
    "\n",
    "from imageio import imread\n",
    "from skimage.transform import resize\n",
    "\n",
    "import warnings\n",
    "warnings.filterwarnings('ignore')"
   ]
  },
  {
   "cell_type": "code",
   "execution_count": 48,
   "metadata": {
    "id": "ACLDQAo7ie-V"
   },
   "outputs": [],
   "source": [
    "# Setting the random seed so that the results don't vary drastically.\n",
    "\n",
    "np.random.seed(30)\n",
    "import random as rn\n",
    "rn.seed(30)\n",
    "from keras import backend as K\n",
    "import tensorflow as tf\n",
    "#tf.random.set_seed(30)\n",
    "tf.set_random_seed(30)"
   ]
  },
  {
   "cell_type": "code",
   "execution_count": 49,
   "metadata": {
    "id": "a4JZ-OyDinnj"
   },
   "outputs": [],
   "source": [
    "# Reading the folder names for training and validation. Also set the `batch_size`\n",
    "\n",
    "train_doc = np.random.RandomState(seed=30).permutation(open('Project_data/train.csv').readlines())\n",
    "val_doc = np.random.RandomState(seed=30).permutation(open('Project_data/val.csv').readlines())"
   ]
  },
  {
   "cell_type": "markdown",
   "metadata": {
    "id": "laykzvE22lFw"
   },
   "source": [
    "## Data Generator"
   ]
  },
  {
   "cell_type": "code",
   "execution_count": 50,
   "metadata": {
    "id": "RRTL86T9oRSy"
   },
   "outputs": [],
   "source": [
    "# Image preprocessing and batch generation\n",
    "\n",
    "img_idx = range(0, 29, 2) #list of image numbers you want to use for a particular video\n",
    "frames = len(img_idx)\n",
    "\n",
    "def generator(source_path, folder_list, batch_size, rows, cols, ablation=None):\n",
    "    print('\\n Source path = ', source_path, '; batch size =', batch_size)\n",
    "    if(ablation!=None):\n",
    "        folder_list=folder_list[:ablation]\n",
    "    while True:\n",
    "        t = np.random.permutation(folder_list)\n",
    "        num_batches = len(folder_list)//batch_size\n",
    "        for batch in range(num_batches): # iterate over the number of batches\n",
    "            batch_data = np.zeros((batch_size,frames,rows,cols,3)) # frames is the number of images you use for each video, (rows,cols) is the final size of the input images and 3 is the number of channels RGB\n",
    "            batch_labels = np.zeros((batch_size,5)) # batch_labels is the one hot representation of the output\n",
    "            for folder in range(batch_size): # iterate over the batch_size\n",
    "                imgs = sorted(os.listdir(source_path+'/'+ t[folder + (batch*batch_size)].split(';')[0])) # read all the images in the folder\n",
    "                for idx,item in enumerate(img_idx): #  Iterate iver the frames/images of a folder to read them in\n",
    "                    image = imread(source_path+'/'+ t[folder + (batch*batch_size)].strip().split(';')[0]+'/'+imgs[item]).astype(np.float32)\n",
    "                    image = resize(image,output_shape=(rows,cols,3))\n",
    "                    \n",
    "                    batch_data[folder,idx,:,:,0] = image[:,:,0]/255 #normalise and feed in the image\n",
    "                    batch_data[folder,idx,:,:,1] = image[:,:,1]/255 #normalise and feed in the image\n",
    "                    batch_data[folder,idx,:,:,2] = image[:,:,2]/255 #normalise and feed in the image\n",
    "                    \n",
    "                batch_labels[folder, int(t[folder + (batch*batch_size)].strip().split(';')[2])] = 1\n",
    "            yield batch_data, batch_labels # yield the batch_data and the batch_labels\n",
    "\n",
    "        \n",
    "        # Code for the remaining data points which are left after full batches\n",
    "        if (len(folder_list) != batch_size*num_batches):\n",
    "            re_batch_size = len(folder_list) - (batch_size*num_batches)\n",
    "            re_batch = num_batches\n",
    "            batch_data = np.zeros((re_batch_size,frames,rows,cols,3)) # frames is the number of images you use for each video, (rows,cols) is the final size of the input images and 3 is the number of channels RGB\n",
    "            batch_labels = np.zeros((re_batch_size,5)) # batch_labels is the one hot representation of the output\n",
    "            for folder in range(re_batch_size): # iterate over the batch_size\n",
    "                imgs = sorted(os.listdir(source_path+'/'+ t[folder + (re_batch*batch_size)].split(';')[0])) # read all the images in the folder\n",
    "                for idx,item in enumerate(img_idx): #  Iterate iver the frames/images of a folder to read them in\n",
    "                    image = imread(source_path+'/'+ t[folder + (re_batch*batch_size)].strip().split(';')[0]+'/'+imgs[item]).astype(np.float32)\n",
    "                    image = resize(image,output_shape=(rows,cols,3))\n",
    "\n",
    "                    batch_data[folder,idx,:,:,0] = image[:,:,0]/255 #normalise and feed in the image\n",
    "                    batch_data[folder,idx,:,:,1] = image[:,:,1]/255 #normalise and feed in the image\n",
    "                    batch_data[folder,idx,:,:,2] = image[:,:,2]/255 #normalise and feed in the image\n",
    "                    \n",
    "                batch_labels[folder, int(t[folder + (re_batch*batch_size)].strip().split(';')[2])] = 1\n",
    "            yield batch_data, batch_labels"
   ]
  },
  {
   "cell_type": "code",
   "execution_count": 51,
   "metadata": {
    "colab": {
     "base_uri": "https://localhost:8080/"
    },
    "id": "DBl6lEyRYWO3",
    "outputId": "8db49e83-b603-4cf2-84dd-4c0c1925b506"
   },
   "outputs": [
    {
     "name": "stdout",
     "output_type": "stream",
     "text": [
      "# training sequences = 663\n",
      "# validation sequences = 100\n"
     ]
    }
   ],
   "source": [
    "curr_dt_time = datetime.datetime.now()\n",
    "train_path = 'Project_data/train'\n",
    "val_path = 'Project_data/val'\n",
    "num_train_sequences = len(train_doc)\n",
    "print('# training sequences =', num_train_sequences)\n",
    "num_val_sequences = len(val_doc)\n",
    "print('# validation sequences =', num_val_sequences)"
   ]
  },
  {
   "cell_type": "markdown",
   "metadata": {
    "id": "Xa8HnBUwMSva"
   },
   "source": [
    "## Model Training "
   ]
  },
  {
   "cell_type": "markdown",
   "metadata": {
    "id": "h9TKXrJ_MS-e"
   },
   "source": [
    "## 3D convolution models"
   ]
  },
  {
   "cell_type": "code",
   "execution_count": 52,
   "metadata": {
    "id": "cWx0p9XeMTMl"
   },
   "outputs": [],
   "source": [
    "# Useful libraries\n",
    "from keras.models import Sequential, Model\n",
    "from keras.layers import Dense, GRU, Flatten, TimeDistributed, Flatten, BatchNormalization, Activation, Dropout\n",
    "from keras.layers.convolutional import Conv3D, MaxPooling3D, Conv2D, MaxPooling2D\n",
    "from keras.callbacks import ModelCheckpoint, ReduceLROnPlateau\n",
    "from keras.optimizers import Adam\n",
    "from keras import regularizers"
   ]
  },
  {
   "cell_type": "markdown",
   "metadata": {
    "id": "AJ2r11AgR6zw"
   },
   "source": [
    "### Model 1"
   ]
  },
  {
   "cell_type": "markdown",
   "metadata": {
    "id": "0TPpHhLySEGN"
   },
   "source": [
    "- Model with initial simply assumed hyperparameter and Architecture\n",
    "- with only 4 epoch as ablation experiment\n",
    "- With batch_size = 32 memory got exausted so it is changed from 32 to 20"
   ]
  },
  {
   "cell_type": "code",
   "execution_count": 53,
   "metadata": {
    "colab": {
     "base_uri": "https://localhost:8080/"
    },
    "id": "jg3tDGFVMTZm",
    "outputId": "895357da-5507-471d-dc67-d7f592e5eec8"
   },
   "outputs": [
    {
     "name": "stdout",
     "output_type": "stream",
     "text": [
      "_________________________________________________________________\n",
      "Layer (type)                 Output Shape              Param #   \n",
      "=================================================================\n",
      "conv3d_11 (Conv3D)           (None, 13, 118, 158, 32)  2624      \n",
      "_________________________________________________________________\n",
      "max_pooling3d_11 (MaxPooling (None, 6, 59, 79, 32)     0         \n",
      "_________________________________________________________________\n",
      "conv3d_12 (Conv3D)           (None, 4, 57, 77, 64)     55360     \n",
      "_________________________________________________________________\n",
      "max_pooling3d_12 (MaxPooling (None, 2, 28, 38, 64)     0         \n",
      "_________________________________________________________________\n",
      "flatten_10 (Flatten)         (None, 136192)            0         \n",
      "_________________________________________________________________\n",
      "dense_22 (Dense)             (None, 256)               34865408  \n",
      "_________________________________________________________________\n",
      "dense_23 (Dense)             (None, 5)                 1285      \n",
      "=================================================================\n",
      "Total params: 34,924,677\n",
      "Trainable params: 34,924,677\n",
      "Non-trainable params: 0\n",
      "_________________________________________________________________\n"
     ]
    }
   ],
   "source": [
    "# Model configuration\n",
    "rows = 120\n",
    "cols = 160\n",
    "batch_size = 20\n",
    "num_epochs = 4\n",
    "learning_rate = 0.0001\n",
    "classes = 5\n",
    "\n",
    "input_shape = (frames,rows,cols,3)\n",
    "\n",
    "\n",
    "# Create the model\n",
    "model_1 = Sequential()\n",
    "model_1.add(Conv3D(32, kernel_size=(3, 3, 3), activation='relu', kernel_initializer='he_uniform', input_shape=input_shape))\n",
    "model_1.add(MaxPooling3D(pool_size=(2, 2, 2)))\n",
    "model_1.add(Conv3D(64, kernel_size=(3, 3, 3), activation='relu', kernel_initializer='he_uniform'))\n",
    "model_1.add(MaxPooling3D(pool_size=(2, 2, 2)))\n",
    "model_1.add(Flatten())\n",
    "model_1.add(Dense(256, activation='relu', kernel_initializer='he_uniform'))\n",
    "model_1.add(Dense(classes, activation='softmax'))\n",
    "\n",
    "# Optimizer and compiler\n",
    "optimiser = Adam(lr=learning_rate)\n",
    "model_1.compile(optimizer=optimiser, loss='categorical_crossentropy', metrics=['categorical_accuracy'])\n",
    "model_1.summary()"
   ]
  },
  {
   "cell_type": "code",
   "execution_count": 54,
   "metadata": {
    "id": "_NFDK1FFZZmK"
   },
   "outputs": [],
   "source": [
    "# Train and validation generator\n",
    "train_generator = generator(train_path, train_doc, batch_size, rows, cols, ablation = None)\n",
    "val_generator = generator(val_path, val_doc, batch_size, rows, cols, ablation = None)"
   ]
  },
  {
   "cell_type": "code",
   "execution_count": 55,
   "metadata": {
    "id": "tLRK-89ZZgWi"
   },
   "outputs": [],
   "source": [
    "# Callback\n",
    "model_name = 'model_init' + '_' + str(curr_dt_time).replace(' ','').replace(':','_') + '/'\n",
    "    \n",
    "if not os.path.exists(model_name):\n",
    "    os.mkdir(model_name)\n",
    "        \n",
    "filepath = model_name + 'model-{epoch:05d}-{loss:.5f}-{categorical_accuracy:.5f}-{val_loss:.5f}-{val_categorical_accuracy:.5f}.h5'\n",
    "\n",
    "checkpoint = ModelCheckpoint(filepath, monitor='val_loss', verbose=1, save_best_only=True, save_weights_only=False, mode='auto')\n",
    "\n",
    "LR = ReduceLROnPlateau(monitor='val_loss', factor=0.2, verbose=1, patience=2)\n",
    "\n",
    "callbacks_list = [checkpoint, LR]"
   ]
  },
  {
   "cell_type": "code",
   "execution_count": 56,
   "metadata": {
    "id": "nZRPCcIuZgot"
   },
   "outputs": [],
   "source": [
    "# Calculate the number of next() calls\n",
    "if (num_train_sequences%batch_size) == 0:\n",
    "    steps_per_epoch = int(num_train_sequences/batch_size)\n",
    "else:\n",
    "    steps_per_epoch = (num_train_sequences//batch_size) + 1\n",
    "\n",
    "if (num_val_sequences%batch_size) == 0:\n",
    "    validation_steps = int(num_val_sequences/batch_size)\n",
    "else:\n",
    "    validation_steps = (num_val_sequences//batch_size) + 1"
   ]
  },
  {
   "cell_type": "code",
   "execution_count": 50,
   "metadata": {
    "colab": {
     "base_uri": "https://localhost:8080/"
    },
    "id": "uIFpCiS-ZgvX",
    "outputId": "48f436d9-762c-46d7-c22f-490a4e27df41"
   },
   "outputs": [
    {
     "name": "stdout",
     "output_type": "stream",
     "text": [
      "\n",
      " Source path =  Project_data/val ; batch size = 20\n",
      "\n",
      " Source path =  Project_data/train ; batch size = 20\n",
      "Epoch 1/4\n",
      "34/34 [==============================] - 80s 2s/step - loss: 3.6596 - categorical_accuracy: 0.2664 - val_loss: 1.3381 - val_categorical_accuracy: 0.5400\n",
      "\n",
      "Epoch 00001: val_loss improved from inf to 1.33812, saving model to model_init_2020-11-0904_06_52.932452/model-00001-3.72163-0.25641-1.33812-0.54000.h5\n",
      "Epoch 2/4\n",
      "34/34 [==============================] - 66s 2s/step - loss: 0.9683 - categorical_accuracy: 0.6990 - val_loss: 0.9725 - val_categorical_accuracy: 0.6000\n",
      "\n",
      "Epoch 00002: val_loss improved from 1.33812 to 0.97253, saving model to model_init_2020-11-0904_06_52.932452/model-00002-0.96553-0.69985-0.97253-0.60000.h5\n",
      "Epoch 3/4\n",
      "34/34 [==============================] - 68s 2s/step - loss: 0.4089 - categorical_accuracy: 0.8926 - val_loss: 0.7215 - val_categorical_accuracy: 0.6900\n",
      "\n",
      "Epoch 00003: val_loss improved from 0.97253 to 0.72153, saving model to model_init_2020-11-0904_06_52.932452/model-00003-0.41642-0.88989-0.72153-0.69000.h5\n",
      "Epoch 4/4\n",
      "34/34 [==============================] - 74s 2s/step - loss: 0.1408 - categorical_accuracy: 0.9765 - val_loss: 0.6637 - val_categorical_accuracy: 0.8100\n",
      "\n",
      "Epoch 00004: val_loss improved from 0.72153 to 0.66370, saving model to model_init_2020-11-0904_06_52.932452/model-00004-0.14192-0.97587-0.66370-0.81000.h5\n"
     ]
    }
   ],
   "source": [
    "# Fit the model\n",
    "\n",
    "model_1_hist = model_1.fit_generator(train_generator, steps_per_epoch=steps_per_epoch, epochs=num_epochs, verbose=1,\n",
    "                    callbacks=callbacks_list, validation_data=val_generator, \n",
    "                    validation_steps=validation_steps, class_weight=None, workers=1, initial_epoch=0)\n"
   ]
  },
  {
   "cell_type": "code",
   "execution_count": 15,
   "metadata": {
    "id": "5ROr8UCRECHl"
   },
   "outputs": [],
   "source": [
    "import matplotlib.pyplot as plt\n",
    "\n",
    "def plot(history):\n",
    "    fig, axes = plt.subplots(nrows=1, ncols=2, figsize=(15,4))\n",
    "    axes[0].plot(history.history['loss'])   \n",
    "    axes[0].plot(history.history['val_loss'])\n",
    "    axes[0].legend(['loss','val_loss'])\n",
    "\n",
    "    axes[1].plot(history.history['categorical_accuracy'])   \n",
    "    axes[1].plot(history.history['val_categorical_accuracy'])\n",
    "    axes[1].legend(['categorical_accuracy','val_categorical_accuracy'])"
   ]
  },
  {
   "cell_type": "code",
   "execution_count": 52,
   "metadata": {},
   "outputs": [
    {
     "data": {
      "image/png": "[encoded data removed]",
      "text/plain": [
       "<Figure size 1080x288 with 2 Axes>"
      ]
     },
     "metadata": {},
     "output_type": "display_data"
    }
   ],
   "source": [
    "plot(model_1_hist)"
   ]
  },
  {
   "cell_type": "markdown",
   "metadata": {},
   "source": [
    "- It can be seen that with 4 epoch loss is started to decrease and accuracy is increasing"
   ]
  },
  {
   "cell_type": "markdown",
   "metadata": {},
   "source": [
    "### Model 2"
   ]
  },
  {
   "cell_type": "markdown",
   "metadata": {},
   "source": [
    "- Increasing the epoch from 4 to 15  \n",
    "- Add more layer to extract more feature"
   ]
  },
  {
   "cell_type": "code",
   "execution_count": 61,
   "metadata": {},
   "outputs": [
    {
     "name": "stdout",
     "output_type": "stream",
     "text": [
      "_________________________________________________________________\n",
      "Layer (type)                 Output Shape              Param #   \n",
      "=================================================================\n",
      "conv3d_51 (Conv3D)           (None, 13, 118, 158, 32)  2624      \n",
      "_________________________________________________________________\n",
      "max_pooling3d_43 (MaxPooling (None, 6, 59, 79, 32)     0         \n",
      "_________________________________________________________________\n",
      "conv3d_52 (Conv3D)           (None, 4, 57, 77, 64)     55360     \n",
      "_________________________________________________________________\n",
      "max_pooling3d_44 (MaxPooling (None, 2, 28, 38, 64)     0         \n",
      "_________________________________________________________________\n",
      "conv3d_53 (Conv3D)           (None, 1, 27, 37, 128)    65664     \n",
      "_________________________________________________________________\n",
      "max_pooling3d_45 (MaxPooling (None, 1, 13, 18, 128)    0         \n",
      "_________________________________________________________________\n",
      "flatten_6 (Flatten)          (None, 29952)             0         \n",
      "_________________________________________________________________\n",
      "dense_13 (Dense)             (None, 256)               7667968   \n",
      "_________________________________________________________________\n",
      "dense_14 (Dense)             (None, 5)                 1285      \n",
      "=================================================================\n",
      "Total params: 7,792,901\n",
      "Trainable params: 7,792,901\n",
      "Non-trainable params: 0\n",
      "_________________________________________________________________\n"
     ]
    }
   ],
   "source": [
    "# Model configuration\n",
    "rows = 120\n",
    "cols = 160\n",
    "batch_size = 20\n",
    "num_epochs = 15\n",
    "learning_rate = 0.0001\n",
    "classes = 5\n",
    "input_shape = (frames,rows,cols,3)\n",
    "\n",
    "# Create the model\n",
    "model_2 = Sequential()\n",
    "model_2.add(Conv3D(32, kernel_size=(3, 3, 3), activation='relu', kernel_initializer='he_uniform', input_shape=input_shape))\n",
    "model_2.add(MaxPooling3D(pool_size=(2, 2, 2)))\n",
    "model_2.add(Conv3D(64, kernel_size=(3, 3, 3), activation='relu', kernel_initializer='he_uniform'))\n",
    "model_2.add(MaxPooling3D(pool_size=(2, 2, 2)))\n",
    "model_2.add(Conv3D(128, kernel_size=(2, 2, 2), activation='relu', kernel_initializer='he_uniform'))\n",
    "model_2.add(MaxPooling3D(pool_size=(1, 2, 2)))\n",
    "model_2.add(Flatten())\n",
    "model_2.add(Dense(256, activation='relu', kernel_initializer='he_uniform'))\n",
    "model_2.add(Dense(classes, activation='softmax'))\n",
    "\n",
    "# Optimizer and compiler\n",
    "optimiser = Adam(lr=learning_rate)\n",
    "model_2.compile(optimizer=optimiser, loss='categorical_crossentropy', metrics=['categorical_accuracy'])\n",
    "model_2.summary()"
   ]
  },
  {
   "cell_type": "code",
   "execution_count": 62,
   "metadata": {},
   "outputs": [
    {
     "name": "stdout",
     "output_type": "stream",
     "text": [
      "\n",
      " Source path =  Project_data/val ; batch size = 20\n",
      "\n",
      " Source path =  Project_data/train ; batch size = 20\n",
      "Epoch 1/15\n",
      "34/34 [==============================] - 75s 2s/step - loss: 1.5313 - categorical_accuracy: 0.3444 - val_loss: 1.1728 - val_categorical_accuracy: 0.5900\n",
      "\n",
      "Epoch 00001: val_loss improved from inf to 1.17282, saving model to model_init_2020-11-0904_15_19.043083/model-00001-1.54132-0.33635-1.17282-0.59000.h5\n",
      "Epoch 2/15\n",
      "34/34 [==============================] - 73s 2s/step - loss: 0.9241 - categorical_accuracy: 0.6939 - val_loss: 0.8975 - val_categorical_accuracy: 0.6400\n",
      "\n",
      "Epoch 00002: val_loss improved from 1.17282 to 0.89747, saving model to model_init_2020-11-0904_15_19.043083/model-00002-0.91848-0.70287-0.89747-0.64000.h5\n",
      "Epoch 3/15\n",
      "34/34 [==============================] - 68s 2s/step - loss: 0.6037 - categorical_accuracy: 0.8028 - val_loss: 0.7963 - val_categorical_accuracy: 0.6700\n",
      "\n",
      "Epoch 00003: val_loss improved from 0.89747 to 0.79627, saving model to model_init_2020-11-0904_15_19.043083/model-00003-0.61378-0.79789-0.79627-0.67000.h5\n",
      "Epoch 4/15\n",
      "34/34 [==============================] - 73s 2s/step - loss: 0.3537 - categorical_accuracy: 0.8985 - val_loss: 0.7177 - val_categorical_accuracy: 0.7700\n",
      "\n",
      "Epoch 00004: val_loss improved from 0.79627 to 0.71775, saving model to model_init_2020-11-0904_15_19.043083/model-00004-0.35514-0.89593-0.71775-0.77000.h5\n",
      "Epoch 5/15\n",
      "34/34 [==============================] - 69s 2s/step - loss: 0.2163 - categorical_accuracy: 0.9529 - val_loss: 0.7809 - val_categorical_accuracy: 0.7300\n",
      "\n",
      "Epoch 00005: val_loss did not improve from 0.71775\n",
      "Epoch 6/15\n",
      "34/34 [==============================] - 70s 2s/step - loss: 0.1462 - categorical_accuracy: 0.9838 - val_loss: 0.6451 - val_categorical_accuracy: 0.7900\n",
      "\n",
      "Epoch 00006: val_loss improved from 0.71775 to 0.64511, saving model to model_init_2020-11-0904_15_19.043083/model-00006-0.14938-0.98341-0.64511-0.79000.h5\n",
      "Epoch 7/15\n",
      "34/34 [==============================] - 68s 2s/step - loss: 0.1017 - categorical_accuracy: 0.9750 - val_loss: 0.7203 - val_categorical_accuracy: 0.7800\n",
      "\n",
      "Epoch 00007: val_loss did not improve from 0.64511\n",
      "Epoch 8/15\n",
      "34/34 [==============================] - 66s 2s/step - loss: 0.0591 - categorical_accuracy: 0.9956 - val_loss: 0.6635 - val_categorical_accuracy: 0.7700\n",
      "\n",
      "Epoch 00008: val_loss did not improve from 0.64511\n",
      "\n",
      "Epoch 00008: ReduceLROnPlateau reducing learning rate to 1.9999999494757503e-05.\n",
      "Epoch 9/15\n",
      "34/34 [==============================] - 72s 2s/step - loss: 0.0296 - categorical_accuracy: 1.0000 - val_loss: 0.6566 - val_categorical_accuracy: 0.7600\n",
      "\n",
      "Epoch 00009: val_loss did not improve from 0.64511\n",
      "Epoch 10/15\n",
      "34/34 [==============================] - 68s 2s/step - loss: 0.0267 - categorical_accuracy: 1.0000 - val_loss: 0.6594 - val_categorical_accuracy: 0.7700\n",
      "\n",
      "Epoch 00010: val_loss did not improve from 0.64511\n",
      "\n",
      "Epoch 00010: ReduceLROnPlateau reducing learning rate to 3.999999898951501e-06.\n",
      "Epoch 11/15\n",
      "34/34 [==============================] - 74s 2s/step - loss: 0.0242 - categorical_accuracy: 1.0000 - val_loss: 0.6462 - val_categorical_accuracy: 0.7800\n",
      "\n",
      "Epoch 00011: val_loss did not improve from 0.64511\n",
      "Epoch 12/15\n",
      "34/34 [==============================] - 65s 2s/step - loss: 0.0236 - categorical_accuracy: 1.0000 - val_loss: 0.6474 - val_categorical_accuracy: 0.7800\n",
      "\n",
      "Epoch 00012: val_loss did not improve from 0.64511\n",
      "\n",
      "Epoch 00012: ReduceLROnPlateau reducing learning rate to 7.999999979801942e-07.\n",
      "Epoch 13/15\n",
      "34/34 [==============================] - 72s 2s/step - loss: 0.0223 - categorical_accuracy: 1.0000 - val_loss: 0.6482 - val_categorical_accuracy: 0.7800\n",
      "\n",
      "Epoch 00013: val_loss did not improve from 0.64511\n",
      "Epoch 14/15\n",
      "34/34 [==============================] - 71s 2s/step - loss: 0.0223 - categorical_accuracy: 1.0000 - val_loss: 0.6485 - val_categorical_accuracy: 0.7800\n",
      "\n",
      "Epoch 00014: val_loss did not improve from 0.64511\n",
      "\n",
      "Epoch 00014: ReduceLROnPlateau reducing learning rate to 1.600000018697756e-07.\n",
      "Epoch 15/15\n",
      "34/34 [==============================] - 71s 2s/step - loss: 0.0226 - categorical_accuracy: 1.0000 - val_loss: 0.6485 - val_categorical_accuracy: 0.7800\n",
      "\n",
      "Epoch 00015: val_loss did not improve from 0.64511\n"
     ]
    }
   ],
   "source": [
    "# fit model\n",
    "model_2_hist = model_2.fit_generator(train_generator, steps_per_epoch=steps_per_epoch, epochs=num_epochs, verbose=1,\n",
    "                    callbacks=callbacks_list, validation_data=val_generator, \n",
    "                    validation_steps=validation_steps, class_weight=None, workers=1, initial_epoch=0)"
   ]
  },
  {
   "cell_type": "code",
   "execution_count": 63,
   "metadata": {},
   "outputs": [
    {
     "data": {
      "image/png": "[encoded data removed]",
      "text/plain": [
       "<Figure size 1080x288 with 2 Axes>"
      ]
     },
     "metadata": {},
     "output_type": "display_data"
    }
   ],
   "source": [
    "plot(model_2_hist)"
   ]
  },
  {
   "cell_type": "markdown",
   "metadata": {},
   "source": [
    "- Model is getting overfitted after some epochs"
   ]
  },
  {
   "cell_type": "markdown",
   "metadata": {},
   "source": [
    "### Model 3"
   ]
  },
  {
   "cell_type": "markdown",
   "metadata": {},
   "source": [
    "- One more dense layer with dropouts and batch normalization"
   ]
  },
  {
   "cell_type": "code",
   "execution_count": 74,
   "metadata": {},
   "outputs": [
    {
     "name": "stdout",
     "output_type": "stream",
     "text": [
      "_________________________________________________________________\n",
      "Layer (type)                 Output Shape              Param #   \n",
      "=================================================================\n",
      "conv3d_54 (Conv3D)           (None, 13, 118, 158, 32)  2624      \n",
      "_________________________________________________________________\n",
      "batch_normalization_1 (Batch (None, 13, 118, 158, 32)  128       \n",
      "_________________________________________________________________\n",
      "max_pooling3d_46 (MaxPooling (None, 6, 59, 79, 32)     0         \n",
      "_________________________________________________________________\n",
      "dropout_21 (Dropout)         (None, 6, 59, 79, 32)     0         \n",
      "_________________________________________________________________\n",
      "conv3d_55 (Conv3D)           (None, 4, 57, 77, 64)     55360     \n",
      "_________________________________________________________________\n",
      "batch_normalization_2 (Batch (None, 4, 57, 77, 64)     256       \n",
      "_________________________________________________________________\n",
      "max_pooling3d_47 (MaxPooling (None, 2, 28, 38, 64)     0         \n",
      "_________________________________________________________________\n",
      "dropout_22 (Dropout)         (None, 2, 28, 38, 64)     0         \n",
      "_________________________________________________________________\n",
      "conv3d_56 (Conv3D)           (None, 1, 27, 37, 128)    65664     \n",
      "_________________________________________________________________\n",
      "batch_normalization_3 (Batch (None, 1, 27, 37, 128)    512       \n",
      "_________________________________________________________________\n",
      "max_pooling3d_48 (MaxPooling (None, 1, 13, 18, 128)    0         \n",
      "_________________________________________________________________\n",
      "flatten_7 (Flatten)          (None, 29952)             0         \n",
      "_________________________________________________________________\n",
      "dense_15 (Dense)             (None, 256)               7667968   \n",
      "_________________________________________________________________\n",
      "dropout_23 (Dropout)         (None, 256)               0         \n",
      "_________________________________________________________________\n",
      "dense_16 (Dense)             (None, 128)               32896     \n",
      "_________________________________________________________________\n",
      "dense_17 (Dense)             (None, 5)                 645       \n",
      "=================================================================\n",
      "Total params: 7,826,053\n",
      "Trainable params: 7,825,605\n",
      "Non-trainable params: 448\n",
      "_________________________________________________________________\n"
     ]
    }
   ],
   "source": [
    "# Model configuration\n",
    "rows = 120\n",
    "cols = 160\n",
    "batch_size = 20\n",
    "num_epochs = 15\n",
    "learning_rate = 0.0001\n",
    "classes = 5\n",
    "input_shape = (frames,rows,cols,3)\n",
    "\n",
    "# Create the model\n",
    "model_3 = Sequential()\n",
    "model_3.add(Conv3D(32, kernel_size=(3, 3, 3), activation='relu', kernel_initializer='he_uniform', input_shape=input_shape))\n",
    "model_3.add(BatchNormalization())\n",
    "model_3.add(MaxPooling3D(pool_size=(2, 2, 2)))\n",
    "model_3.add(Dropout(0.5))\n",
    "model_3.add(Conv3D(64, kernel_size=(3, 3, 3), activation='relu', kernel_initializer='he_uniform'))\n",
    "model_3.add(BatchNormalization())\n",
    "model_3.add(MaxPooling3D(pool_size=(2, 2, 2)))\n",
    "model_3.add(Dropout(0.5))\n",
    "model_3.add(Conv3D(128, kernel_size=(2, 2, 2), activation='relu', kernel_initializer='he_uniform'))\n",
    "model_3.add(BatchNormalization())\n",
    "model_3.add(MaxPooling3D(pool_size=(1, 2, 2)))\n",
    "model_3.add(Flatten())\n",
    "model_3.add(Dense(256, activation='relu', kernel_initializer='he_uniform'))\n",
    "model_3.add(Dropout(0.25))\n",
    "model_3.add(Dense(128, activation='relu', kernel_initializer='he_uniform'))\n",
    "\n",
    "model_3.add(Dense(classes, activation='softmax'))\n",
    "\n",
    "# Optimizer and compiler\n",
    "optimiser = Adam(lr=learning_rate)\n",
    "model_3.compile(optimizer=optimiser, loss='categorical_crossentropy', metrics=['categorical_accuracy'])\n",
    "model_3.summary()"
   ]
  },
  {
   "cell_type": "code",
   "execution_count": 75,
   "metadata": {},
   "outputs": [
    {
     "name": "stdout",
     "output_type": "stream",
     "text": [
      "\n",
      " Source path =  Project_data/val ; batch size = 20\n",
      "\n",
      " Source path =  Project_data/train ; batch size = 20\n",
      "Epoch 1/15\n",
      "34/34 [==============================] - 79s 2s/step - loss: 2.1897 - categorical_accuracy: 0.3274 - val_loss: 3.1912 - val_categorical_accuracy: 0.2800\n",
      "\n",
      "Epoch 00001: val_loss improved from inf to 3.19120, saving model to model_init_2020-11-0904_36_04.306405/model-00001-2.19341-0.32730-3.19120-0.28000.h5\n",
      "Epoch 2/15\n",
      "34/34 [==============================] - 66s 2s/step - loss: 1.2695 - categorical_accuracy: 0.5129 - val_loss: 3.3332 - val_categorical_accuracy: 0.2900\n",
      "\n",
      "Epoch 00002: val_loss did not improve from 3.19120\n",
      "Epoch 3/15\n",
      "34/34 [==============================] - 72s 2s/step - loss: 1.0300 - categorical_accuracy: 0.6115 - val_loss: 3.3717 - val_categorical_accuracy: 0.3200\n",
      "\n",
      "Epoch 00003: val_loss did not improve from 3.19120\n",
      "\n",
      "Epoch 00003: ReduceLROnPlateau reducing learning rate to 1.9999999494757503e-05.\n",
      "Epoch 4/15\n",
      "34/34 [==============================] - 69s 2s/step - loss: 0.8095 - categorical_accuracy: 0.6932 - val_loss: 3.4323 - val_categorical_accuracy: 0.3300\n",
      "\n",
      "Epoch 00004: val_loss did not improve from 3.19120\n",
      "Epoch 5/15\n",
      "34/34 [==============================] - 73s 2s/step - loss: 0.7345 - categorical_accuracy: 0.7101 - val_loss: 3.4257 - val_categorical_accuracy: 0.3300\n",
      "\n",
      "Epoch 00005: val_loss did not improve from 3.19120\n",
      "\n",
      "Epoch 00005: ReduceLROnPlateau reducing learning rate to 3.999999898951501e-06.\n",
      "Epoch 6/15\n",
      "34/34 [==============================] - 74s 2s/step - loss: 0.6571 - categorical_accuracy: 0.7432 - val_loss: 3.4997 - val_categorical_accuracy: 0.3300\n",
      "\n",
      "Epoch 00006: val_loss did not improve from 3.19120\n",
      "Epoch 7/15\n",
      "34/34 [==============================] - 73s 2s/step - loss: 0.6525 - categorical_accuracy: 0.7469 - val_loss: 3.5175 - val_categorical_accuracy: 0.3300\n",
      "\n",
      "Epoch 00007: val_loss did not improve from 3.19120\n",
      "\n",
      "Epoch 00007: ReduceLROnPlateau reducing learning rate to 7.999999979801942e-07.\n",
      "Epoch 8/15\n",
      "34/34 [==============================] - 70s 2s/step - loss: 0.6197 - categorical_accuracy: 0.7609 - val_loss: 3.5006 - val_categorical_accuracy: 0.3300\n",
      "\n",
      "Epoch 00008: val_loss did not improve from 3.19120\n",
      "Epoch 9/15\n",
      "34/34 [==============================] - 69s 2s/step - loss: 0.6220 - categorical_accuracy: 0.7645 - val_loss: 3.4997 - val_categorical_accuracy: 0.3300\n",
      "\n",
      "Epoch 00009: val_loss did not improve from 3.19120\n",
      "\n",
      "Epoch 00009: ReduceLROnPlateau reducing learning rate to 1.600000018697756e-07.\n",
      "Epoch 10/15\n",
      "34/34 [==============================] - 75s 2s/step - loss: 0.6147 - categorical_accuracy: 0.7594 - val_loss: 3.5073 - val_categorical_accuracy: 0.3300\n",
      "\n",
      "Epoch 00010: val_loss did not improve from 3.19120\n",
      "Epoch 11/15\n",
      "34/34 [==============================] - 72s 2s/step - loss: 0.6611 - categorical_accuracy: 0.7410 - val_loss: 3.4902 - val_categorical_accuracy: 0.3300\n",
      "\n",
      "Epoch 00011: val_loss did not improve from 3.19120\n",
      "\n",
      "Epoch 00011: ReduceLROnPlateau reducing learning rate to 3.199999980552093e-08.\n",
      "Epoch 12/15\n",
      "34/34 [==============================] - 75s 2s/step - loss: 0.6164 - categorical_accuracy: 0.7667 - val_loss: 3.4886 - val_categorical_accuracy: 0.3300\n",
      "\n",
      "Epoch 00012: val_loss did not improve from 3.19120\n",
      "Epoch 13/15\n",
      "34/34 [==============================] - 74s 2s/step - loss: 0.5961 - categorical_accuracy: 0.7763 - val_loss: 3.4997 - val_categorical_accuracy: 0.3300\n",
      "\n",
      "Epoch 00013: val_loss did not improve from 3.19120\n",
      "\n",
      "Epoch 00013: ReduceLROnPlateau reducing learning rate to 6.399999818995639e-09.\n",
      "Epoch 14/15\n",
      "34/34 [==============================] - 68s 2s/step - loss: 0.5807 - categorical_accuracy: 0.7851 - val_loss: 3.5097 - val_categorical_accuracy: 0.3300\n",
      "\n",
      "Epoch 00014: val_loss did not improve from 3.19120\n",
      "Epoch 15/15\n",
      "34/34 [==============================] - 68s 2s/step - loss: 0.5715 - categorical_accuracy: 0.7815 - val_loss: 3.5050 - val_categorical_accuracy: 0.3200\n",
      "\n",
      "Epoch 00015: val_loss did not improve from 3.19120\n",
      "\n",
      "Epoch 00015: ReduceLROnPlateau reducing learning rate to 1.279999928271991e-09.\n"
     ]
    }
   ],
   "source": [
    "# fit model\n",
    "model_3_hist = model_3.fit_generator(train_generator, steps_per_epoch=steps_per_epoch, epochs=num_epochs, verbose=1,\n",
    "                    callbacks=callbacks_list, validation_data=val_generator, \n",
    "                    validation_steps=validation_steps, class_weight=None, workers=1, initial_epoch=0)"
   ]
  },
  {
   "cell_type": "code",
   "execution_count": 76,
   "metadata": {},
   "outputs": [
    {
     "data": {
      "image/png": "[encoded data removed]",
      "text/plain": [
       "<Figure size 1080x288 with 2 Axes>"
      ]
     },
     "metadata": {},
     "output_type": "display_data"
    }
   ],
   "source": [
    "plot(model_3_hist)"
   ]
  },
  {
   "cell_type": "markdown",
   "metadata": {},
   "source": [
    "- Model is underperforming on validation data"
   ]
  },
  {
   "cell_type": "markdown",
   "metadata": {},
   "source": [
    "### Model 4"
   ]
  },
  {
   "cell_type": "markdown",
   "metadata": {},
   "source": [
    "- Reducing neurons at dense layer\n",
    "- Optimizing number of training parameter\n",
    "- Dropouts only at dense layer"
   ]
  },
  {
   "cell_type": "code",
   "execution_count": 12,
   "metadata": {},
   "outputs": [
    {
     "name": "stdout",
     "output_type": "stream",
     "text": [
      "_________________________________________________________________\n",
      "Layer (type)                 Output Shape              Param #   \n",
      "=================================================================\n",
      "conv3d_3 (Conv3D)            (None, 13, 118, 158, 8)   656       \n",
      "_________________________________________________________________\n",
      "batch_normalization_1 (Batch (None, 13, 118, 158, 8)   32        \n",
      "_________________________________________________________________\n",
      "max_pooling3d_3 (MaxPooling3 (None, 6, 59, 79, 8)      0         \n",
      "_________________________________________________________________\n",
      "conv3d_4 (Conv3D)            (None, 4, 57, 77, 16)     3472      \n",
      "_________________________________________________________________\n",
      "batch_normalization_2 (Batch (None, 4, 57, 77, 16)     64        \n",
      "_________________________________________________________________\n",
      "max_pooling3d_4 (MaxPooling3 (None, 2, 28, 38, 16)     0         \n",
      "_________________________________________________________________\n",
      "conv3d_5 (Conv3D)            (None, 2, 28, 38, 32)     13856     \n",
      "_________________________________________________________________\n",
      "batch_normalization_3 (Batch (None, 2, 28, 38, 32)     128       \n",
      "_________________________________________________________________\n",
      "max_pooling3d_5 (MaxPooling3 (None, 1, 14, 19, 32)     0         \n",
      "_________________________________________________________________\n",
      "conv3d_6 (Conv3D)            (None, 1, 14, 19, 64)     16448     \n",
      "_________________________________________________________________\n",
      "batch_normalization_4 (Batch (None, 1, 14, 19, 64)     256       \n",
      "_________________________________________________________________\n",
      "max_pooling3d_6 (MaxPooling3 (None, 1, 7, 9, 64)       0         \n",
      "_________________________________________________________________\n",
      "flatten_2 (Flatten)          (None, 4032)              0         \n",
      "_________________________________________________________________\n",
      "dense_3 (Dense)              (None, 64)                258112    \n",
      "_________________________________________________________________\n",
      "batch_normalization_5 (Batch (None, 64)                256       \n",
      "_________________________________________________________________\n",
      "dropout_1 (Dropout)          (None, 64)                0         \n",
      "_________________________________________________________________\n",
      "dense_4 (Dense)              (None, 64)                4160      \n",
      "_________________________________________________________________\n",
      "batch_normalization_6 (Batch (None, 64)                256       \n",
      "_________________________________________________________________\n",
      "dropout_2 (Dropout)          (None, 64)                0         \n",
      "_________________________________________________________________\n",
      "dense_5 (Dense)              (None, 5)                 325       \n",
      "=================================================================\n",
      "Total params: 298,021\n",
      "Trainable params: 297,525\n",
      "Non-trainable params: 496\n",
      "_________________________________________________________________\n"
     ]
    }
   ],
   "source": [
    "# Model configuration\n",
    "rows = 120\n",
    "cols = 160\n",
    "batch_size = 20\n",
    "num_epochs = 15\n",
    "learning_rate = 0.0001\n",
    "classes = 5\n",
    "input_shape = (frames,rows,cols,3)\n",
    "\n",
    "# Create the model\n",
    "model_4 = Sequential()\n",
    "model_4.add(Conv3D(8, kernel_size=(3, 3, 3), activation='relu', kernel_initializer='he_uniform', input_shape=input_shape))\n",
    "model_4.add(BatchNormalization())\n",
    "model_4.add(MaxPooling3D(pool_size=(2, 2, 2)))\n",
    "model_4.add(Conv3D(16, kernel_size=(3, 3, 3), activation='relu', kernel_initializer='he_uniform', input_shape=input_shape))\n",
    "model_4.add(BatchNormalization())\n",
    "model_4.add(MaxPooling3D(pool_size=(2, 2, 2)))\n",
    "model_4.add(Conv3D(32, kernel_size=(3, 3, 3), activation='relu', padding='same', kernel_initializer='he_uniform', input_shape=input_shape))\n",
    "model_4.add(BatchNormalization())\n",
    "model_4.add(MaxPooling3D(pool_size=(2, 2, 2)))\n",
    "model_4.add(Conv3D(64, kernel_size=(2, 2, 2), activation='relu', padding='same' ,kernel_initializer='he_uniform', input_shape=input_shape))\n",
    "model_4.add(BatchNormalization())\n",
    "model_4.add(MaxPooling3D(pool_size=(1, 2, 2)))\n",
    "\n",
    "model_4.add(Flatten())\n",
    "model_4.add(Dense(64, activation='relu', kernel_initializer='he_uniform'))\n",
    "model_4.add(BatchNormalization())\n",
    "model_4.add(Dropout(0.25))\n",
    "model_4.add(Dense(64, activation='relu', kernel_initializer='he_uniform'))\n",
    "model_4.add(BatchNormalization())\n",
    "model_4.add(Dropout(0.25))\n",
    "model_4.add(Dense(classes, activation='softmax'))\n",
    "\n",
    "# Optimizer and compiler\n",
    "optimiser = Adam(lr=learning_rate)\n",
    "model_4.compile(optimizer=optimiser, loss='categorical_crossentropy', metrics=['categorical_accuracy'])\n",
    "model_4.summary()"
   ]
  },
  {
   "cell_type": "code",
   "execution_count": 13,
   "metadata": {},
   "outputs": [
    {
     "name": "stdout",
     "output_type": "stream",
     "text": [
      "\n",
      " Source path =  Project_data/val ; batch size = 20\n",
      "\n",
      " Source path =  Project_data/train ; batch size = 20\n",
      "Epoch 1/15\n",
      "34/34 [==============================] - 152s 4s/step - loss: 1.9747 - categorical_accuracy: 0.2789 - val_loss: 1.7258 - val_categorical_accuracy: 0.3100\n",
      "\n",
      "Epoch 00001: val_loss improved from inf to 1.72576, saving model to model_init_2020-11-0905_13_29.256661/model-00001-1.98974-0.27753-1.72576-0.31000.h5\n",
      "Epoch 2/15\n",
      "34/34 [==============================] - 84s 2s/step - loss: 1.5832 - categorical_accuracy: 0.3606 - val_loss: 1.4960 - val_categorical_accuracy: 0.4000\n",
      "\n",
      "Epoch 00002: val_loss improved from 1.72576 to 1.49601, saving model to model_init_2020-11-0905_13_29.256661/model-00002-1.56422-0.36953-1.49601-0.40000.h5\n",
      "Epoch 3/15\n",
      "34/34 [==============================] - 84s 2s/step - loss: 1.3338 - categorical_accuracy: 0.4628 - val_loss: 1.3401 - val_categorical_accuracy: 0.4500\n",
      "\n",
      "Epoch 00003: val_loss improved from 1.49601 to 1.34010, saving model to model_init_2020-11-0905_13_29.256661/model-00003-1.32589-0.46606-1.34010-0.45000.h5\n",
      "Epoch 4/15\n",
      "34/34 [==============================] - 86s 3s/step - loss: 1.1497 - categorical_accuracy: 0.5232 - val_loss: 1.3247 - val_categorical_accuracy: 0.4700\n",
      "\n",
      "Epoch 00004: val_loss improved from 1.34010 to 1.32475, saving model to model_init_2020-11-0905_13_29.256661/model-00004-1.12392-0.52790-1.32475-0.47000.h5\n",
      "Epoch 5/15\n",
      "34/34 [==============================] - 106s 3s/step - loss: 1.0230 - categorical_accuracy: 0.6137 - val_loss: 1.2122 - val_categorical_accuracy: 0.4800\n",
      "\n",
      "Epoch 00005: val_loss improved from 1.32475 to 1.21216, saving model to model_init_2020-11-0905_13_29.256661/model-00005-1.03009-0.61237-1.21216-0.48000.h5\n",
      "Epoch 6/15\n",
      "34/34 [==============================] - 80s 2s/step - loss: 0.9867 - categorical_accuracy: 0.6129 - val_loss: 1.1883 - val_categorical_accuracy: 0.5200\n",
      "\n",
      "Epoch 00006: val_loss improved from 1.21216 to 1.18833, saving model to model_init_2020-11-0905_13_29.256661/model-00006-0.96352-0.61991-1.18833-0.52000.h5\n",
      "Epoch 7/15\n",
      "34/34 [==============================] - 75s 2s/step - loss: 0.8911 - categorical_accuracy: 0.6519 - val_loss: 1.1123 - val_categorical_accuracy: 0.5200\n",
      "\n",
      "Epoch 00007: val_loss improved from 1.18833 to 1.11235, saving model to model_init_2020-11-0905_13_29.256661/model-00007-0.86519-0.66817-1.11235-0.52000.h5\n",
      "Epoch 8/15\n",
      "34/34 [==============================] - 76s 2s/step - loss: 0.8034 - categorical_accuracy: 0.6983 - val_loss: 1.0647 - val_categorical_accuracy: 0.5700\n",
      "\n",
      "Epoch 00008: val_loss improved from 1.11235 to 1.06471, saving model to model_init_2020-11-0905_13_29.256661/model-00008-0.81468-0.69080-1.06471-0.57000.h5\n",
      "Epoch 9/15\n",
      "34/34 [==============================] - 71s 2s/step - loss: 0.7639 - categorical_accuracy: 0.7138 - val_loss: 1.0016 - val_categorical_accuracy: 0.5700\n",
      "\n",
      "Epoch 00009: val_loss improved from 1.06471 to 1.00162, saving model to model_init_2020-11-0905_13_29.256661/model-00009-0.76738-0.71493-1.00162-0.57000.h5\n",
      "Epoch 10/15\n",
      "34/34 [==============================] - 75s 2s/step - loss: 0.6988 - categorical_accuracy: 0.7513 - val_loss: 1.0280 - val_categorical_accuracy: 0.5700\n",
      "\n",
      "Epoch 00010: val_loss did not improve from 1.00162\n",
      "Epoch 11/15\n",
      "34/34 [==============================] - 67s 2s/step - loss: 0.6123 - categorical_accuracy: 0.7888 - val_loss: 1.0033 - val_categorical_accuracy: 0.6000\n",
      "\n",
      "Epoch 00011: val_loss did not improve from 1.00162\n",
      "\n",
      "Epoch 00011: ReduceLROnPlateau reducing learning rate to 1.9999999494757503e-05.\n",
      "Epoch 12/15\n",
      "34/34 [==============================] - 66s 2s/step - loss: 0.6328 - categorical_accuracy: 0.7807 - val_loss: 0.9970 - val_categorical_accuracy: 0.6100\n",
      "\n",
      "Epoch 00012: val_loss improved from 1.00162 to 0.99697, saving model to model_init_2020-11-0905_13_29.256661/model-00012-0.60795-0.79186-0.99697-0.61000.h5\n",
      "Epoch 13/15\n",
      "34/34 [==============================] - 72s 2s/step - loss: 0.6217 - categorical_accuracy: 0.7704 - val_loss: 0.9901 - val_categorical_accuracy: 0.6000\n",
      "\n",
      "Epoch 00013: val_loss improved from 0.99697 to 0.99013, saving model to model_init_2020-11-0905_13_29.256661/model-00013-0.60351-0.78130-0.99013-0.60000.h5\n",
      "Epoch 14/15\n",
      "34/34 [==============================] - 74s 2s/step - loss: 0.5480 - categorical_accuracy: 0.8182 - val_loss: 0.9878 - val_categorical_accuracy: 0.6000\n",
      "\n",
      "Epoch 00014: val_loss improved from 0.99013 to 0.98777, saving model to model_init_2020-11-0905_13_29.256661/model-00014-0.54825-0.82202-0.98777-0.60000.h5\n",
      "Epoch 15/15\n",
      "34/34 [==============================] - 70s 2s/step - loss: 0.5779 - categorical_accuracy: 0.7918 - val_loss: 0.9876 - val_categorical_accuracy: 0.6000\n",
      "\n",
      "Epoch 00015: val_loss improved from 0.98777 to 0.98755, saving model to model_init_2020-11-0905_13_29.256661/model-00015-0.56544-0.79487-0.98755-0.60000.h5\n"
     ]
    }
   ],
   "source": [
    "# fit model\n",
    "model_4_hist = model_4.fit_generator(train_generator, steps_per_epoch=steps_per_epoch, epochs=num_epochs, verbose=1,\n",
    "                    callbacks=callbacks_list, validation_data=val_generator, \n",
    "                    validation_steps=validation_steps, class_weight=None, workers=1, initial_epoch=0)"
   ]
  },
  {
   "cell_type": "code",
   "execution_count": 16,
   "metadata": {},
   "outputs": [
    {
     "data": {
      "image/png": "[encoded data removed]",
      "text/plain": [
       "<Figure size 1080x288 with 2 Axes>"
      ]
     },
     "metadata": {},
     "output_type": "display_data"
    }
   ],
   "source": [
    "plot(model_4_hist)"
   ]
  },
  {
   "cell_type": "markdown",
   "metadata": {},
   "source": [
    "## CNN + RNN "
   ]
  },
  {
   "cell_type": "markdown",
   "metadata": {},
   "source": [
    "### cnnrnn 1"
   ]
  },
  {
   "cell_type": "code",
   "execution_count": 43,
   "metadata": {},
   "outputs": [
    {
     "name": "stdout",
     "output_type": "stream",
     "text": [
      "_________________________________________________________________\n",
      "Layer (type)                 Output Shape              Param #   \n",
      "=================================================================\n",
      "time_distributed_28 (TimeDis (None, 15, 60, 80, 8)     224       \n",
      "_________________________________________________________________\n",
      "time_distributed_29 (TimeDis (None, 15, 60, 80, 16)    1168      \n",
      "_________________________________________________________________\n",
      "time_distributed_30 (TimeDis (None, 15, 30, 40, 16)    0         \n",
      "_________________________________________________________________\n",
      "time_distributed_31 (TimeDis (None, 15, 30, 40, 32)    4640      \n",
      "_________________________________________________________________\n",
      "time_distributed_32 (TimeDis (None, 15, 15, 20, 32)    0         \n",
      "_________________________________________________________________\n",
      "time_distributed_33 (TimeDis (None, 15, 15, 20, 64)    8256      \n",
      "_________________________________________________________________\n",
      "time_distributed_34 (TimeDis (None, 15, 7, 10, 64)     0         \n",
      "_________________________________________________________________\n",
      "time_distributed_35 (TimeDis (None, 15, 7, 10, 64)     256       \n",
      "_________________________________________________________________\n",
      "dropout_12 (Dropout)         (None, 15, 7, 10, 64)     0         \n",
      "_________________________________________________________________\n",
      "time_distributed_36 (TimeDis (None, 15, 4480)          0         \n",
      "_________________________________________________________________\n",
      "dense_19 (Dense)             (None, 15, 128)           573568    \n",
      "_________________________________________________________________\n",
      "dropout_13 (Dropout)         (None, 15, 128)           0         \n",
      "_________________________________________________________________\n",
      "dense_20 (Dense)             (None, 15, 64)            8256      \n",
      "_________________________________________________________________\n",
      "dropout_14 (Dropout)         (None, 15, 64)            0         \n",
      "_________________________________________________________________\n",
      "gru_4 (GRU)                  (None, 128)               74112     \n",
      "_________________________________________________________________\n",
      "dense_21 (Dense)             (None, 5)                 645       \n",
      "=================================================================\n",
      "Total params: 671,125\n",
      "Trainable params: 670,997\n",
      "Non-trainable params: 128\n",
      "_________________________________________________________________\n"
     ]
    }
   ],
   "source": [
    "# Model configuration\n",
    "rows = 120\n",
    "cols = 160\n",
    "batch_size = 20\n",
    "num_epochs = 15\n",
    "learning_rate = 0.0001\n",
    "classes = 5\n",
    "input_shape = (frames,rows,cols,3)\n",
    "\n",
    "# Model \n",
    "cnnrnn_1 = Sequential()\n",
    "\n",
    "cnnrnn_1.add(TimeDistributed(Conv2D(8, (3, 3), strides=(2, 2),activation='relu', padding='same'), input_shape=input_shape))\n",
    "\n",
    "\n",
    "cnnrnn_1.add(TimeDistributed(Conv2D(16, (3,3),padding='same', activation='relu')))\n",
    "cnnrnn_1.add(TimeDistributed(MaxPooling2D((2, 2), strides=(2, 2))))\n",
    "\n",
    "cnnrnn_1.add(TimeDistributed(Conv2D(32, (3,3),padding='same', activation='relu')))\n",
    "cnnrnn_1.add(TimeDistributed(MaxPooling2D((2, 2), strides=(2, 2))))\n",
    "\n",
    "cnnrnn_1.add(TimeDistributed(Conv2D(64, (2,2),padding='same', activation='relu')))\n",
    "cnnrnn_1.add(TimeDistributed(MaxPooling2D((2, 2), strides=(2, 2))))\n",
    "\n",
    "cnnrnn_1.add(TimeDistributed(BatchNormalization()))\n",
    "cnnrnn_1.add(Dropout(0.25))\n",
    "\n",
    "cnnrnn_1.add(TimeDistributed(Flatten()))\n",
    "\n",
    "cnnrnn_1.add(Dense(128, activation='relu'))\n",
    "cnnrnn_1.add(Dropout(0.25))\n",
    "cnnrnn_1.add(Dense(64, activation='relu'))\n",
    "cnnrnn_1.add(Dropout(0.25))\n",
    "\n",
    "## using GRU as the RNN model along with softmax\n",
    "cnnrnn_1.add(GRU(128, return_sequences=False))\n",
    "cnnrnn_1.add(Dense(classes, activation='softmax')) \n",
    "\n",
    "# Optimizer and compiler\n",
    "optimiser = Adam(lr=learning_rate)\n",
    "cnnrnn_1.compile(optimizer=optimiser, loss='categorical_crossentropy', metrics=['categorical_accuracy'])\n",
    "cnnrnn_1.summary()"
   ]
  },
  {
   "cell_type": "code",
   "execution_count": 44,
   "metadata": {},
   "outputs": [
    {
     "name": "stdout",
     "output_type": "stream",
     "text": [
      "\n",
      " Source path =  Project_data/val ; batch size = 20\n",
      "\n",
      " Source path =  Project_data/train ; batch size = 20\n",
      "Epoch 1/15\n",
      "34/34 [==============================] - 78s 2s/step - loss: 1.4977 - categorical_accuracy: 0.3252 - val_loss: 1.3351 - val_categorical_accuracy: 0.4900\n",
      "\n",
      "Epoch 00001: val_loss improved from inf to 1.33510, saving model to model_init_2020-11-0905_39_39.642881/model-00001-1.49272-0.33333-1.33510-0.49000.h5\n",
      "Epoch 2/15\n",
      "34/34 [==============================] - 67s 2s/step - loss: 1.2139 - categorical_accuracy: 0.5372 - val_loss: 1.2443 - val_categorical_accuracy: 0.4600\n",
      "\n",
      "Epoch 00002: val_loss improved from 1.33510 to 1.24425, saving model to model_init_2020-11-0905_39_39.642881/model-00002-1.22057-0.53394-1.24425-0.46000.h5\n",
      "Epoch 3/15\n",
      "34/34 [==============================] - 76s 2s/step - loss: 1.0601 - categorical_accuracy: 0.5990 - val_loss: 1.1802 - val_categorical_accuracy: 0.5300\n",
      "\n",
      "Epoch 00003: val_loss improved from 1.24425 to 1.18016, saving model to model_init_2020-11-0905_39_39.642881/model-00003-1.05999-0.59729-1.18016-0.53000.h5\n",
      "Epoch 4/15\n",
      "34/34 [==============================] - 74s 2s/step - loss: 0.9313 - categorical_accuracy: 0.6593 - val_loss: 1.0452 - val_categorical_accuracy: 0.6000\n",
      "\n",
      "Epoch 00004: val_loss improved from 1.18016 to 1.04516, saving model to model_init_2020-11-0905_39_39.642881/model-00004-0.93054-0.65913-1.04516-0.60000.h5\n",
      "Epoch 5/15\n",
      "34/34 [==============================] - 75s 2s/step - loss: 0.7727 - categorical_accuracy: 0.7380 - val_loss: 1.1186 - val_categorical_accuracy: 0.5800\n",
      "\n",
      "Epoch 00005: val_loss did not improve from 1.04516\n",
      "Epoch 6/15\n",
      "34/34 [==============================] - 76s 2s/step - loss: 0.6513 - categorical_accuracy: 0.7851 - val_loss: 0.9294 - val_categorical_accuracy: 0.6600\n",
      "\n",
      "Epoch 00006: val_loss improved from 1.04516 to 0.92939, saving model to model_init_2020-11-0905_39_39.642881/model-00006-0.65870-0.77979-0.92939-0.66000.h5\n",
      "Epoch 7/15\n",
      "34/34 [==============================] - 70s 2s/step - loss: 0.5215 - categorical_accuracy: 0.8344 - val_loss: 0.9402 - val_categorical_accuracy: 0.6900\n",
      "\n",
      "Epoch 00007: val_loss did not improve from 0.92939\n",
      "Epoch 8/15\n",
      "34/34 [==============================] - 75s 2s/step - loss: 0.4178 - categorical_accuracy: 0.8779 - val_loss: 0.8197 - val_categorical_accuracy: 0.7500\n",
      "\n",
      "Epoch 00008: val_loss improved from 0.92939 to 0.81968, saving model to model_init_2020-11-0905_39_39.642881/model-00008-0.42155-0.87481-0.81968-0.75000.h5\n",
      "Epoch 9/15\n",
      "34/34 [==============================] - 69s 2s/step - loss: 0.3412 - categorical_accuracy: 0.9205 - val_loss: 0.8499 - val_categorical_accuracy: 0.7300\n",
      "\n",
      "Epoch 00009: val_loss did not improve from 0.81968\n",
      "Epoch 10/15\n",
      "34/34 [==============================] - 73s 2s/step - loss: 0.2705 - categorical_accuracy: 0.9264 - val_loss: 0.8269 - val_categorical_accuracy: 0.7200\n",
      "\n",
      "Epoch 00010: val_loss did not improve from 0.81968\n",
      "\n",
      "Epoch 00010: ReduceLROnPlateau reducing learning rate to 1.9999999494757503e-05.\n",
      "Epoch 11/15\n",
      "34/34 [==============================] - 73s 2s/step - loss: 0.2158 - categorical_accuracy: 0.9647 - val_loss: 0.8218 - val_categorical_accuracy: 0.7300\n",
      "\n",
      "Epoch 00011: val_loss did not improve from 0.81968\n",
      "Epoch 12/15\n",
      "34/34 [==============================] - 68s 2s/step - loss: 0.1833 - categorical_accuracy: 0.9706 - val_loss: 0.8113 - val_categorical_accuracy: 0.7300\n",
      "\n",
      "Epoch 00012: val_loss improved from 0.81968 to 0.81127, saving model to model_init_2020-11-0905_39_39.642881/model-00012-0.18228-0.96983-0.81127-0.73000.h5\n",
      "Epoch 13/15\n",
      "34/34 [==============================] - 76s 2s/step - loss: 0.1749 - categorical_accuracy: 0.9639 - val_loss: 0.8134 - val_categorical_accuracy: 0.7500\n",
      "\n",
      "Epoch 00013: val_loss did not improve from 0.81127\n",
      "Epoch 14/15\n",
      "34/34 [==============================] - 70s 2s/step - loss: 0.1676 - categorical_accuracy: 0.9735 - val_loss: 0.8153 - val_categorical_accuracy: 0.7500\n",
      "\n",
      "Epoch 00014: val_loss did not improve from 0.81127\n",
      "\n",
      "Epoch 00014: ReduceLROnPlateau reducing learning rate to 3.999999898951501e-06.\n",
      "Epoch 15/15\n",
      "34/34 [==============================] - 73s 2s/step - loss: 0.1593 - categorical_accuracy: 0.9779 - val_loss: 0.8133 - val_categorical_accuracy: 0.7500\n",
      "\n",
      "Epoch 00015: val_loss did not improve from 0.81127\n"
     ]
    }
   ],
   "source": [
    "# fit model\n",
    "cnnrnn_1_hist = cnnrnn_1.fit_generator(train_generator, steps_per_epoch=steps_per_epoch, epochs=num_epochs, verbose=1,\n",
    "                    callbacks=callbacks_list, validation_data=val_generator, \n",
    "                    validation_steps=validation_steps, class_weight=None, workers=1, initial_epoch=0)"
   ]
  },
  {
   "cell_type": "code",
   "execution_count": 45,
   "metadata": {},
   "outputs": [
    {
     "data": {
      "image/png": "[encoded data removed]",
      "text/plain": [
       "<Figure size 1080x288 with 2 Axes>"
      ]
     },
     "metadata": {},
     "output_type": "display_data"
    }
   ],
   "source": [
    "plot(cnnrnn_1_hist)"
   ]
  },
  {
   "cell_type": "markdown",
   "metadata": {},
   "source": [
    "### cnnrnn 2"
   ]
  },
  {
   "cell_type": "markdown",
   "metadata": {},
   "source": [
    "- Battling overfitiing\n",
    "- Applying regularization\n",
    "- More dropouts"
   ]
  },
  {
   "cell_type": "code",
   "execution_count": 57,
   "metadata": {},
   "outputs": [
    {
     "name": "stdout",
     "output_type": "stream",
     "text": [
      "_________________________________________________________________\n",
      "Layer (type)                 Output Shape              Param #   \n",
      "=================================================================\n",
      "time_distributed_49 (TimeDis (None, 15, 60, 80, 8)     224       \n",
      "_________________________________________________________________\n",
      "time_distributed_50 (TimeDis (None, 15, 60, 80, 8)     32        \n",
      "_________________________________________________________________\n",
      "time_distributed_51 (TimeDis (None, 15, 60, 80, 16)    1168      \n",
      "_________________________________________________________________\n",
      "time_distributed_52 (TimeDis (None, 15, 60, 80, 16)    64        \n",
      "_________________________________________________________________\n",
      "time_distributed_53 (TimeDis (None, 15, 30, 40, 16)    0         \n",
      "_________________________________________________________________\n",
      "dropout_17 (Dropout)         (None, 15, 30, 40, 16)    0         \n",
      "_________________________________________________________________\n",
      "time_distributed_54 (TimeDis (None, 15, 30, 40, 32)    4640      \n",
      "_________________________________________________________________\n",
      "time_distributed_55 (TimeDis (None, 15, 30, 40, 32)    128       \n",
      "_________________________________________________________________\n",
      "time_distributed_56 (TimeDis (None, 15, 15, 20, 32)    0         \n",
      "_________________________________________________________________\n",
      "time_distributed_57 (TimeDis (None, 15, 15, 20, 64)    8256      \n",
      "_________________________________________________________________\n",
      "time_distributed_58 (TimeDis (None, 15, 15, 20, 64)    256       \n",
      "_________________________________________________________________\n",
      "time_distributed_59 (TimeDis (None, 15, 7, 10, 64)     0         \n",
      "_________________________________________________________________\n",
      "dropout_18 (Dropout)         (None, 15, 7, 10, 64)     0         \n",
      "_________________________________________________________________\n",
      "time_distributed_60 (TimeDis (None, 15, 4480)          0         \n",
      "_________________________________________________________________\n",
      "dense_24 (Dense)             (None, 15, 128)           573568    \n",
      "_________________________________________________________________\n",
      "dropout_19 (Dropout)         (None, 15, 128)           0         \n",
      "_________________________________________________________________\n",
      "dense_25 (Dense)             (None, 15, 64)            8256      \n",
      "_________________________________________________________________\n",
      "dropout_20 (Dropout)         (None, 15, 64)            0         \n",
      "_________________________________________________________________\n",
      "gru_5 (GRU)                  (None, 128)               74112     \n",
      "_________________________________________________________________\n",
      "dense_26 (Dense)             (None, 5)                 645       \n",
      "=================================================================\n",
      "Total params: 671,349\n",
      "Trainable params: 671,109\n",
      "Non-trainable params: 240\n",
      "_________________________________________________________________\n"
     ]
    }
   ],
   "source": [
    "# Model configuration\n",
    "rows = 120\n",
    "cols = 160\n",
    "batch_size = 20\n",
    "num_epochs = 15\n",
    "learning_rate = 0.0001\n",
    "classes = 5\n",
    "input_shape = (frames,rows,cols,3)\n",
    "\n",
    "# Model \n",
    "cnnrnn_2 = Sequential()\n",
    "\n",
    "cnnrnn_2.add(TimeDistributed(Conv2D(8, (3, 3), strides=(2, 2),activation='relu', padding='same'), input_shape=input_shape))\n",
    "cnnrnn_2.add(TimeDistributed(BatchNormalization()))\n",
    "\n",
    "cnnrnn_2.add(TimeDistributed(Conv2D(16, (3,3),padding='same', activation='relu')))\n",
    "cnnrnn_2.add(TimeDistributed(BatchNormalization()))\n",
    "cnnrnn_2.add(TimeDistributed(MaxPooling2D((2, 2), strides=(2, 2))))\n",
    "cnnrnn_2.add(Dropout(0.25))\n",
    "\n",
    "cnnrnn_2.add(TimeDistributed(Conv2D(32, (3,3),padding='same', activation='relu')))\n",
    "cnnrnn_2.add(TimeDistributed(BatchNormalization()))\n",
    "cnnrnn_2.add(TimeDistributed(MaxPooling2D((2, 2), strides=(2, 2))))\n",
    "\n",
    "cnnrnn_2.add(TimeDistributed(Conv2D(64, (2,2),padding='same', activation='relu')))\n",
    "cnnrnn_2.add(TimeDistributed(BatchNormalization()))\n",
    "cnnrnn_2.add(TimeDistributed(MaxPooling2D((2, 2), strides=(2, 2))))\n",
    "cnnrnn_2.add(Dropout(0.25))\n",
    "\n",
    "cnnrnn_2.add(TimeDistributed(Flatten()))\n",
    "\n",
    "cnnrnn_2.add(Dense(128, activation='relu', kernel_regularizer=regularizers.l2(0.001)))\n",
    "cnnrnn_2.add(Dropout(0.25))\n",
    "cnnrnn_2.add(Dense(64, activation='relu', kernel_regularizer=regularizers.l2(0.001)))\n",
    "cnnrnn_2.add(Dropout(0.25))\n",
    "\n",
    "## using GRU as the RNN model along with softmax\n",
    "cnnrnn_2.add(GRU(128, return_sequences=False))\n",
    "cnnrnn_2.add(Dense(classes, activation='softmax')) \n",
    "\n",
    "# Optimizer and compiler\n",
    "optimiser = Adam(lr=learning_rate)\n",
    "cnnrnn_2.compile(optimizer=optimiser, loss='categorical_crossentropy', metrics=['categorical_accuracy'])\n",
    "cnnrnn_2.summary()"
   ]
  },
  {
   "cell_type": "code",
   "execution_count": 58,
   "metadata": {},
   "outputs": [
    {
     "name": "stdout",
     "output_type": "stream",
     "text": [
      "\n",
      " Source path =  Project_data/val ; batch size = 20\n",
      "\n",
      " Source path =  Epoch 1/15Project_data/train ; batch size = 20\n",
      "\n",
      "34/34 [==============================] - 77s 2s/step - loss: 1.8612 - categorical_accuracy: 0.3098 - val_loss: 1.7033 - val_categorical_accuracy: 0.3600\n",
      "\n",
      "Epoch 00001: val_loss improved from inf to 1.70334, saving model to model_init_2020-11-0906_05_27.734180/model-00001-1.86007-0.30920-1.70334-0.36000.h5\n",
      "Epoch 2/15\n",
      "34/34 [==============================] - 62s 2s/step - loss: 1.5893 - categorical_accuracy: 0.5099 - val_loss: 1.5357 - val_categorical_accuracy: 0.4800\n",
      "\n",
      "Epoch 00002: val_loss improved from 1.70334 to 1.53569, saving model to model_init_2020-11-0906_05_27.734180/model-00002-1.59073-0.51433-1.53569-0.48000.h5\n",
      "Epoch 3/15\n",
      "34/34 [==============================] - 74s 2s/step - loss: 1.3970 - categorical_accuracy: 0.5953 - val_loss: 1.4996 - val_categorical_accuracy: 0.4800\n",
      "\n",
      "Epoch 00003: val_loss improved from 1.53569 to 1.49965, saving model to model_init_2020-11-0906_05_27.734180/model-00003-1.39158-0.60181-1.49965-0.48000.h5\n",
      "Epoch 4/15\n",
      "34/34 [==============================] - 68s 2s/step - loss: 1.2865 - categorical_accuracy: 0.6571 - val_loss: 1.3424 - val_categorical_accuracy: 0.5700\n",
      "\n",
      "Epoch 00004: val_loss improved from 1.49965 to 1.34241, saving model to model_init_2020-11-0906_05_27.734180/model-00004-1.28264-0.66516-1.34241-0.57000.h5\n",
      "Epoch 5/15\n",
      "34/34 [==============================] - 66s 2s/step - loss: 1.2061 - categorical_accuracy: 0.6784 - val_loss: 1.2976 - val_categorical_accuracy: 0.6300\n",
      "\n",
      "Epoch 00005: val_loss improved from 1.34241 to 1.29761, saving model to model_init_2020-11-0906_05_27.734180/model-00005-1.17191-0.69532-1.29761-0.63000.h5\n",
      "Epoch 6/15\n",
      "34/34 [==============================] - 72s 2s/step - loss: 1.1157 - categorical_accuracy: 0.7182 - val_loss: 1.3091 - val_categorical_accuracy: 0.6000\n",
      "\n",
      "Epoch 00006: val_loss did not improve from 1.29761\n",
      "Epoch 7/15\n",
      "34/34 [==============================] - 76s 2s/step - loss: 1.0227 - categorical_accuracy: 0.7601 - val_loss: 1.2346 - val_categorical_accuracy: 0.6400\n",
      "\n",
      "Epoch 00007: val_loss improved from 1.29761 to 1.23457, saving model to model_init_2020-11-0906_05_27.734180/model-00007-1.02459-0.75415-1.23457-0.64000.h5\n",
      "Epoch 8/15\n",
      "34/34 [==============================] - 75s 2s/step - loss: 0.9495 - categorical_accuracy: 0.7822 - val_loss: 1.2155 - val_categorical_accuracy: 0.6700\n",
      "\n",
      "Epoch 00008: val_loss improved from 1.23457 to 1.21551, saving model to model_init_2020-11-0906_05_27.734180/model-00008-0.95332-0.77677-1.21551-0.67000.h5\n",
      "Epoch 9/15\n",
      "34/34 [==============================] - 67s 2s/step - loss: 0.8520 - categorical_accuracy: 0.8344 - val_loss: 1.2725 - val_categorical_accuracy: 0.6700\n",
      "\n",
      "Epoch 00009: val_loss did not improve from 1.21551\n",
      "Epoch 10/15\n",
      "34/34 [==============================] - 64s 2s/step - loss: 0.8298 - categorical_accuracy: 0.8263 - val_loss: 1.1965 - val_categorical_accuracy: 0.6900\n",
      "\n",
      "Epoch 00010: val_loss improved from 1.21551 to 1.19650, saving model to model_init_2020-11-0906_05_27.734180/model-00010-0.82759-0.82202-1.19650-0.69000.h5\n",
      "Epoch 11/15\n",
      "34/34 [==============================] - 65s 2s/step - loss: 0.7694 - categorical_accuracy: 0.8587 - val_loss: 1.1780 - val_categorical_accuracy: 0.7100\n",
      "\n",
      "Epoch 00011: val_loss improved from 1.19650 to 1.17799, saving model to model_init_2020-11-0906_05_27.734180/model-00011-0.77517-0.85520-1.17799-0.71000.h5\n",
      "Epoch 12/15\n",
      "34/34 [==============================] - 70s 2s/step - loss: 0.7049 - categorical_accuracy: 0.8779 - val_loss: 1.2105 - val_categorical_accuracy: 0.7200\n",
      "\n",
      "Epoch 00012: val_loss did not improve from 1.17799\n",
      "Epoch 13/15\n",
      "34/34 [==============================] - 74s 2s/step - loss: 0.6515 - categorical_accuracy: 0.9117 - val_loss: 1.3080 - val_categorical_accuracy: 0.7000\n",
      "\n",
      "Epoch 00013: val_loss did not improve from 1.17799\n",
      "\n",
      "Epoch 00013: ReduceLROnPlateau reducing learning rate to 1.9999999494757503e-05.\n",
      "Epoch 14/15\n",
      "34/34 [==============================] - 71s 2s/step - loss: 0.6291 - categorical_accuracy: 0.9220 - val_loss: 1.2415 - val_categorical_accuracy: 0.7000\n",
      "\n",
      "Epoch 00014: val_loss did not improve from 1.17799\n",
      "Epoch 15/15\n",
      "34/34 [==============================] - 69s 2s/step - loss: 0.5907 - categorical_accuracy: 0.9323 - val_loss: 1.2583 - val_categorical_accuracy: 0.7000\n",
      "\n",
      "Epoch 00015: val_loss did not improve from 1.17799\n",
      "\n",
      "Epoch 00015: ReduceLROnPlateau reducing learning rate to 3.999999898951501e-06.\n"
     ]
    }
   ],
   "source": [
    "# fit model\n",
    "cnnrnn_2_hist = cnnrnn_2.fit_generator(train_generator, steps_per_epoch=steps_per_epoch, epochs=num_epochs, verbose=1,\n",
    "                    callbacks=callbacks_list, validation_data=val_generator, \n",
    "                    validation_steps=validation_steps, class_weight=None, workers=1, initial_epoch=0)"
   ]
  },
  {
   "cell_type": "code",
   "execution_count": 59,
   "metadata": {},
   "outputs": [
    {
     "data": {
      "image/png": "[encoded data removed]",
      "text/plain": [
       "<Figure size 1080x288 with 2 Axes>"
      ]
     },
     "metadata": {},
     "output_type": "display_data"
    }
   ],
   "source": [
    "plot(cnnrnn_2_hist)"
   ]
  },
  {
   "cell_type": "markdown",
   "metadata": {},
   "source": [
    "- After few epochs model is overfitting so best parameters are choosen at 11 th epoch which is best generalized with total parameters 671,349 so far in cnnrnn models."
   ]
  },
  {
   "cell_type": "code",
   "execution_count": null,
   "metadata": {},
   "outputs": [],
   "source": []
  }
 ],
 "metadata": {
  "accelerator": "GPU",
  "colab": {
   "collapsed_sections": [],
   "name": "Gesture Recognition.ipynb",
   "provenance": []
  },
  "kernelspec": {
   "display_name": "Python 3",
   "language": "python",
   "name": "python3"
  },
  "language_info": {
   "codemirror_mode": {
    "name": "ipython",
    "version": 3
   },
   "file_extension": ".py",
   "mimetype": "text/x-python",
   "name": "python",
   "nbconvert_exporter": "python",
   "pygments_lexer": "ipython3",
   "version": "3.8.5"
  },
  "toc": {
   "base_numbering": 1,
   "nav_menu": {},
   "number_sections": true,
   "sideBar": true,
   "skip_h1_title": false,
   "title_cell": "Table of Contents",
   "title_sidebar": "Contents",
   "toc_cell": false,
   "toc_position": {},
   "toc_section_display": true,
   "toc_window_display": false
  }
 },
 "nbformat": 4,
 "nbformat_minor": 1
}
